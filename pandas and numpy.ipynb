{
 "cells": [
  {
   "cell_type": "code",
   "execution_count": 1,
   "id": "800cfb5f",
   "metadata": {},
   "outputs": [],
   "source": [
    "import pandas as pd"
   ]
  },
  {
   "cell_type": "code",
   "execution_count": 2,
   "id": "d34d02da",
   "metadata": {},
   "outputs": [
    {
     "data": {
      "text/html": [
       "<div>\n",
       "<style scoped>\n",
       "    .dataframe tbody tr th:only-of-type {\n",
       "        vertical-align: middle;\n",
       "    }\n",
       "\n",
       "    .dataframe tbody tr th {\n",
       "        vertical-align: top;\n",
       "    }\n",
       "\n",
       "    .dataframe thead th {\n",
       "        text-align: right;\n",
       "    }\n",
       "</style>\n",
       "<table border=\"1\" class=\"dataframe\">\n",
       "  <thead>\n",
       "    <tr style=\"text-align: right;\">\n",
       "      <th></th>\n",
       "      <th>col1</th>\n",
       "      <th>col2</th>\n",
       "      <th>col3</th>\n",
       "    </tr>\n",
       "  </thead>\n",
       "  <tbody>\n",
       "    <tr>\n",
       "      <th>0</th>\n",
       "      <td>1</td>\n",
       "      <td>45</td>\n",
       "      <td>sudhanshu kumar krish ineuron one</td>\n",
       "    </tr>\n",
       "    <tr>\n",
       "      <th>1</th>\n",
       "      <td>2</td>\n",
       "      <td>56</td>\n",
       "      <td>sudhanshu kumar krish ineuron one</td>\n",
       "    </tr>\n",
       "    <tr>\n",
       "      <th>2</th>\n",
       "      <td>3</td>\n",
       "      <td>67</td>\n",
       "      <td>sudhanshu kumar krish ineuron one</td>\n",
       "    </tr>\n",
       "    <tr>\n",
       "      <th>3</th>\n",
       "      <td>4</td>\n",
       "      <td>34</td>\n",
       "      <td>sudhanshu kumar krish ineuron one</td>\n",
       "    </tr>\n",
       "    <tr>\n",
       "      <th>4</th>\n",
       "      <td>5</td>\n",
       "      <td>34</td>\n",
       "      <td>sudhanshu kumar krish ineuron one</td>\n",
       "    </tr>\n",
       "  </tbody>\n",
       "</table>\n",
       "</div>"
      ],
      "text/plain": [
       "   col1  col2                               col3\n",
       "0     1    45  sudhanshu kumar krish ineuron one\n",
       "1     2    56  sudhanshu kumar krish ineuron one\n",
       "2     3    67  sudhanshu kumar krish ineuron one\n",
       "3     4    34  sudhanshu kumar krish ineuron one\n",
       "4     5    34  sudhanshu kumar krish ineuron one"
      ]
     },
     "execution_count": 2,
     "metadata": {},
     "output_type": "execute_result"
    }
   ],
   "source": [
    "pd.DataFrame({'col1':[1,2,3,4,5],\n",
    "              'col2':[45,56,67,34,34],\n",
    "              'col3':\"sudhanshu kumar krish ineuron one\"\n",
    "             })"
   ]
  },
  {
   "cell_type": "code",
   "execution_count": 3,
   "id": "dcc918c9",
   "metadata": {},
   "outputs": [
    {
     "data": {
      "text/plain": [
       "['sudhanshu', 'kumar', 'krish', 'ineuron', 'one']"
      ]
     },
     "execution_count": 3,
     "metadata": {},
     "output_type": "execute_result"
    }
   ],
   "source": [
    "\"sudhanshu kumar krish ineuron one\".split()\n"
   ]
  },
  {
   "cell_type": "code",
   "execution_count": 5,
   "id": "6a9ba410",
   "metadata": {},
   "outputs": [],
   "source": [
    "df=pd.DataFrame({'col1':[1,2,3,4,5],\n",
    "              'col2':[45,56,67,34,34],\n",
    "              'col3':\"sudhanshu kumar krish ineuron one\".split()\n",
    "             })"
   ]
  },
  {
   "cell_type": "code",
   "execution_count": 6,
   "id": "f922b490",
   "metadata": {},
   "outputs": [
    {
     "data": {
      "text/html": [
       "<div>\n",
       "<style scoped>\n",
       "    .dataframe tbody tr th:only-of-type {\n",
       "        vertical-align: middle;\n",
       "    }\n",
       "\n",
       "    .dataframe tbody tr th {\n",
       "        vertical-align: top;\n",
       "    }\n",
       "\n",
       "    .dataframe thead th {\n",
       "        text-align: right;\n",
       "    }\n",
       "</style>\n",
       "<table border=\"1\" class=\"dataframe\">\n",
       "  <thead>\n",
       "    <tr style=\"text-align: right;\">\n",
       "      <th></th>\n",
       "      <th>col1</th>\n",
       "      <th>col2</th>\n",
       "      <th>col3</th>\n",
       "    </tr>\n",
       "  </thead>\n",
       "  <tbody>\n",
       "    <tr>\n",
       "      <th>0</th>\n",
       "      <td>1</td>\n",
       "      <td>45</td>\n",
       "      <td>sudhanshu</td>\n",
       "    </tr>\n",
       "    <tr>\n",
       "      <th>1</th>\n",
       "      <td>2</td>\n",
       "      <td>56</td>\n",
       "      <td>kumar</td>\n",
       "    </tr>\n",
       "    <tr>\n",
       "      <th>2</th>\n",
       "      <td>3</td>\n",
       "      <td>67</td>\n",
       "      <td>krish</td>\n",
       "    </tr>\n",
       "    <tr>\n",
       "      <th>3</th>\n",
       "      <td>4</td>\n",
       "      <td>34</td>\n",
       "      <td>ineuron</td>\n",
       "    </tr>\n",
       "    <tr>\n",
       "      <th>4</th>\n",
       "      <td>5</td>\n",
       "      <td>34</td>\n",
       "      <td>one</td>\n",
       "    </tr>\n",
       "  </tbody>\n",
       "</table>\n",
       "</div>"
      ],
      "text/plain": [
       "   col1  col2       col3\n",
       "0     1    45  sudhanshu\n",
       "1     2    56      kumar\n",
       "2     3    67      krish\n",
       "3     4    34    ineuron\n",
       "4     5    34        one"
      ]
     },
     "execution_count": 6,
     "metadata": {},
     "output_type": "execute_result"
    }
   ],
   "source": [
    "df"
   ]
  },
  {
   "cell_type": "code",
   "execution_count": 8,
   "id": "69ff1396",
   "metadata": {},
   "outputs": [],
   "source": [
    "df[\"col4\"]=df[\"col1\"]**2"
   ]
  },
  {
   "cell_type": "code",
   "execution_count": 9,
   "id": "867ef7ff",
   "metadata": {},
   "outputs": [
    {
     "data": {
      "text/html": [
       "<div>\n",
       "<style scoped>\n",
       "    .dataframe tbody tr th:only-of-type {\n",
       "        vertical-align: middle;\n",
       "    }\n",
       "\n",
       "    .dataframe tbody tr th {\n",
       "        vertical-align: top;\n",
       "    }\n",
       "\n",
       "    .dataframe thead th {\n",
       "        text-align: right;\n",
       "    }\n",
       "</style>\n",
       "<table border=\"1\" class=\"dataframe\">\n",
       "  <thead>\n",
       "    <tr style=\"text-align: right;\">\n",
       "      <th></th>\n",
       "      <th>col1</th>\n",
       "      <th>col2</th>\n",
       "      <th>col3</th>\n",
       "      <th>col4</th>\n",
       "    </tr>\n",
       "  </thead>\n",
       "  <tbody>\n",
       "    <tr>\n",
       "      <th>0</th>\n",
       "      <td>1</td>\n",
       "      <td>45</td>\n",
       "      <td>sudhanshu</td>\n",
       "      <td>1</td>\n",
       "    </tr>\n",
       "    <tr>\n",
       "      <th>1</th>\n",
       "      <td>2</td>\n",
       "      <td>56</td>\n",
       "      <td>kumar</td>\n",
       "      <td>4</td>\n",
       "    </tr>\n",
       "    <tr>\n",
       "      <th>2</th>\n",
       "      <td>3</td>\n",
       "      <td>67</td>\n",
       "      <td>krish</td>\n",
       "      <td>9</td>\n",
       "    </tr>\n",
       "    <tr>\n",
       "      <th>3</th>\n",
       "      <td>4</td>\n",
       "      <td>34</td>\n",
       "      <td>ineuron</td>\n",
       "      <td>16</td>\n",
       "    </tr>\n",
       "    <tr>\n",
       "      <th>4</th>\n",
       "      <td>5</td>\n",
       "      <td>34</td>\n",
       "      <td>one</td>\n",
       "      <td>25</td>\n",
       "    </tr>\n",
       "  </tbody>\n",
       "</table>\n",
       "</div>"
      ],
      "text/plain": [
       "   col1  col2       col3  col4\n",
       "0     1    45  sudhanshu     1\n",
       "1     2    56      kumar     4\n",
       "2     3    67      krish     9\n",
       "3     4    34    ineuron    16\n",
       "4     5    34        one    25"
      ]
     },
     "execution_count": 9,
     "metadata": {},
     "output_type": "execute_result"
    }
   ],
   "source": [
    "df"
   ]
  },
  {
   "cell_type": "code",
   "execution_count": 10,
   "id": "2a856d68",
   "metadata": {},
   "outputs": [],
   "source": [
    "df[\"col5\"]=df[\"col3\"].str[0]"
   ]
  },
  {
   "cell_type": "code",
   "execution_count": 11,
   "id": "bbc3a05f",
   "metadata": {},
   "outputs": [
    {
     "data": {
      "text/html": [
       "<div>\n",
       "<style scoped>\n",
       "    .dataframe tbody tr th:only-of-type {\n",
       "        vertical-align: middle;\n",
       "    }\n",
       "\n",
       "    .dataframe tbody tr th {\n",
       "        vertical-align: top;\n",
       "    }\n",
       "\n",
       "    .dataframe thead th {\n",
       "        text-align: right;\n",
       "    }\n",
       "</style>\n",
       "<table border=\"1\" class=\"dataframe\">\n",
       "  <thead>\n",
       "    <tr style=\"text-align: right;\">\n",
       "      <th></th>\n",
       "      <th>col1</th>\n",
       "      <th>col2</th>\n",
       "      <th>col3</th>\n",
       "      <th>col4</th>\n",
       "      <th>col5</th>\n",
       "    </tr>\n",
       "  </thead>\n",
       "  <tbody>\n",
       "    <tr>\n",
       "      <th>0</th>\n",
       "      <td>1</td>\n",
       "      <td>45</td>\n",
       "      <td>sudhanshu</td>\n",
       "      <td>1</td>\n",
       "      <td>s</td>\n",
       "    </tr>\n",
       "    <tr>\n",
       "      <th>1</th>\n",
       "      <td>2</td>\n",
       "      <td>56</td>\n",
       "      <td>kumar</td>\n",
       "      <td>4</td>\n",
       "      <td>k</td>\n",
       "    </tr>\n",
       "    <tr>\n",
       "      <th>2</th>\n",
       "      <td>3</td>\n",
       "      <td>67</td>\n",
       "      <td>krish</td>\n",
       "      <td>9</td>\n",
       "      <td>k</td>\n",
       "    </tr>\n",
       "    <tr>\n",
       "      <th>3</th>\n",
       "      <td>4</td>\n",
       "      <td>34</td>\n",
       "      <td>ineuron</td>\n",
       "      <td>16</td>\n",
       "      <td>i</td>\n",
       "    </tr>\n",
       "    <tr>\n",
       "      <th>4</th>\n",
       "      <td>5</td>\n",
       "      <td>34</td>\n",
       "      <td>one</td>\n",
       "      <td>25</td>\n",
       "      <td>o</td>\n",
       "    </tr>\n",
       "  </tbody>\n",
       "</table>\n",
       "</div>"
      ],
      "text/plain": [
       "   col1  col2       col3  col4 col5\n",
       "0     1    45  sudhanshu     1    s\n",
       "1     2    56      kumar     4    k\n",
       "2     3    67      krish     9    k\n",
       "3     4    34    ineuron    16    i\n",
       "4     5    34        one    25    o"
      ]
     },
     "execution_count": 11,
     "metadata": {},
     "output_type": "execute_result"
    }
   ],
   "source": [
    "df"
   ]
  },
  {
   "cell_type": "markdown",
   "id": "39548611",
   "metadata": {},
   "source": [
    "## apply function "
   ]
  },
  {
   "cell_type": "code",
   "execution_count": 14,
   "id": "de23e507",
   "metadata": {},
   "outputs": [],
   "source": [
    "def test(a):\n",
    "    return a*a"
   ]
  },
  {
   "cell_type": "code",
   "execution_count": 15,
   "id": "62850c3b",
   "metadata": {},
   "outputs": [],
   "source": [
    "df[\"col4_4\"]= df[\"col1\"].apply(test)"
   ]
  },
  {
   "cell_type": "code",
   "execution_count": 16,
   "id": "a4948645",
   "metadata": {},
   "outputs": [
    {
     "data": {
      "text/html": [
       "<div>\n",
       "<style scoped>\n",
       "    .dataframe tbody tr th:only-of-type {\n",
       "        vertical-align: middle;\n",
       "    }\n",
       "\n",
       "    .dataframe tbody tr th {\n",
       "        vertical-align: top;\n",
       "    }\n",
       "\n",
       "    .dataframe thead th {\n",
       "        text-align: right;\n",
       "    }\n",
       "</style>\n",
       "<table border=\"1\" class=\"dataframe\">\n",
       "  <thead>\n",
       "    <tr style=\"text-align: right;\">\n",
       "      <th></th>\n",
       "      <th>col1</th>\n",
       "      <th>col2</th>\n",
       "      <th>col3</th>\n",
       "      <th>col4</th>\n",
       "      <th>col5</th>\n",
       "      <th>col4_4</th>\n",
       "    </tr>\n",
       "  </thead>\n",
       "  <tbody>\n",
       "    <tr>\n",
       "      <th>0</th>\n",
       "      <td>1</td>\n",
       "      <td>45</td>\n",
       "      <td>sudhanshu</td>\n",
       "      <td>1</td>\n",
       "      <td>s</td>\n",
       "      <td>1</td>\n",
       "    </tr>\n",
       "    <tr>\n",
       "      <th>1</th>\n",
       "      <td>2</td>\n",
       "      <td>56</td>\n",
       "      <td>kumar</td>\n",
       "      <td>4</td>\n",
       "      <td>k</td>\n",
       "      <td>4</td>\n",
       "    </tr>\n",
       "    <tr>\n",
       "      <th>2</th>\n",
       "      <td>3</td>\n",
       "      <td>67</td>\n",
       "      <td>krish</td>\n",
       "      <td>9</td>\n",
       "      <td>k</td>\n",
       "      <td>9</td>\n",
       "    </tr>\n",
       "    <tr>\n",
       "      <th>3</th>\n",
       "      <td>4</td>\n",
       "      <td>34</td>\n",
       "      <td>ineuron</td>\n",
       "      <td>16</td>\n",
       "      <td>i</td>\n",
       "      <td>16</td>\n",
       "    </tr>\n",
       "    <tr>\n",
       "      <th>4</th>\n",
       "      <td>5</td>\n",
       "      <td>34</td>\n",
       "      <td>one</td>\n",
       "      <td>25</td>\n",
       "      <td>o</td>\n",
       "      <td>25</td>\n",
       "    </tr>\n",
       "  </tbody>\n",
       "</table>\n",
       "</div>"
      ],
      "text/plain": [
       "   col1  col2       col3  col4 col5  col4_4\n",
       "0     1    45  sudhanshu     1    s       1\n",
       "1     2    56      kumar     4    k       4\n",
       "2     3    67      krish     9    k       9\n",
       "3     4    34    ineuron    16    i      16\n",
       "4     5    34        one    25    o      25"
      ]
     },
     "execution_count": 16,
     "metadata": {},
     "output_type": "execute_result"
    }
   ],
   "source": [
    "df"
   ]
  },
  {
   "cell_type": "code",
   "execution_count": 19,
   "id": "9188536b",
   "metadata": {},
   "outputs": [],
   "source": [
    "def test1(a):\n",
    "    if a==\"s\":\n",
    "        return a\n",
    "    else:\n",
    "        return \"z\""
   ]
  },
  {
   "cell_type": "code",
   "execution_count": 20,
   "id": "611b0d31",
   "metadata": {},
   "outputs": [],
   "source": [
    "df[\"col6\"] = df[\"col5\"].apply(test1)"
   ]
  },
  {
   "cell_type": "code",
   "execution_count": 22,
   "id": "03f3d1da",
   "metadata": {},
   "outputs": [
    {
     "data": {
      "text/html": [
       "<div>\n",
       "<style scoped>\n",
       "    .dataframe tbody tr th:only-of-type {\n",
       "        vertical-align: middle;\n",
       "    }\n",
       "\n",
       "    .dataframe tbody tr th {\n",
       "        vertical-align: top;\n",
       "    }\n",
       "\n",
       "    .dataframe thead th {\n",
       "        text-align: right;\n",
       "    }\n",
       "</style>\n",
       "<table border=\"1\" class=\"dataframe\">\n",
       "  <thead>\n",
       "    <tr style=\"text-align: right;\">\n",
       "      <th></th>\n",
       "      <th>col1</th>\n",
       "      <th>col2</th>\n",
       "      <th>col3</th>\n",
       "      <th>col4</th>\n",
       "      <th>col5</th>\n",
       "      <th>col4_4</th>\n",
       "      <th>col6</th>\n",
       "    </tr>\n",
       "  </thead>\n",
       "  <tbody>\n",
       "    <tr>\n",
       "      <th>0</th>\n",
       "      <td>1</td>\n",
       "      <td>45</td>\n",
       "      <td>sudhanshu</td>\n",
       "      <td>1</td>\n",
       "      <td>s</td>\n",
       "      <td>1</td>\n",
       "      <td>s</td>\n",
       "    </tr>\n",
       "    <tr>\n",
       "      <th>1</th>\n",
       "      <td>2</td>\n",
       "      <td>56</td>\n",
       "      <td>kumar</td>\n",
       "      <td>4</td>\n",
       "      <td>k</td>\n",
       "      <td>4</td>\n",
       "      <td>z</td>\n",
       "    </tr>\n",
       "    <tr>\n",
       "      <th>2</th>\n",
       "      <td>3</td>\n",
       "      <td>67</td>\n",
       "      <td>krish</td>\n",
       "      <td>9</td>\n",
       "      <td>k</td>\n",
       "      <td>9</td>\n",
       "      <td>z</td>\n",
       "    </tr>\n",
       "    <tr>\n",
       "      <th>3</th>\n",
       "      <td>4</td>\n",
       "      <td>34</td>\n",
       "      <td>ineuron</td>\n",
       "      <td>16</td>\n",
       "      <td>i</td>\n",
       "      <td>16</td>\n",
       "      <td>z</td>\n",
       "    </tr>\n",
       "    <tr>\n",
       "      <th>4</th>\n",
       "      <td>5</td>\n",
       "      <td>34</td>\n",
       "      <td>one</td>\n",
       "      <td>25</td>\n",
       "      <td>o</td>\n",
       "      <td>25</td>\n",
       "      <td>z</td>\n",
       "    </tr>\n",
       "  </tbody>\n",
       "</table>\n",
       "</div>"
      ],
      "text/plain": [
       "   col1  col2       col3  col4 col5  col4_4 col6\n",
       "0     1    45  sudhanshu     1    s       1    s\n",
       "1     2    56      kumar     4    k       4    z\n",
       "2     3    67      krish     9    k       9    z\n",
       "3     4    34    ineuron    16    i      16    z\n",
       "4     5    34        one    25    o      25    z"
      ]
     },
     "execution_count": 22,
     "metadata": {},
     "output_type": "execute_result"
    }
   ],
   "source": [
    "df"
   ]
  },
  {
   "cell_type": "code",
   "execution_count": 24,
   "id": "f10a56ce",
   "metadata": {},
   "outputs": [],
   "source": [
    "df[\"col6_6\"] = df[\"col5\"].apply(lambda a:\"s\" if a==\"s\" else \"z\")"
   ]
  },
  {
   "cell_type": "code",
   "execution_count": 25,
   "id": "bea99ea8",
   "metadata": {},
   "outputs": [
    {
     "data": {
      "text/html": [
       "<div>\n",
       "<style scoped>\n",
       "    .dataframe tbody tr th:only-of-type {\n",
       "        vertical-align: middle;\n",
       "    }\n",
       "\n",
       "    .dataframe tbody tr th {\n",
       "        vertical-align: top;\n",
       "    }\n",
       "\n",
       "    .dataframe thead th {\n",
       "        text-align: right;\n",
       "    }\n",
       "</style>\n",
       "<table border=\"1\" class=\"dataframe\">\n",
       "  <thead>\n",
       "    <tr style=\"text-align: right;\">\n",
       "      <th></th>\n",
       "      <th>col1</th>\n",
       "      <th>col2</th>\n",
       "      <th>col3</th>\n",
       "      <th>col4</th>\n",
       "      <th>col5</th>\n",
       "      <th>col4_4</th>\n",
       "      <th>col6</th>\n",
       "      <th>col6_6</th>\n",
       "    </tr>\n",
       "  </thead>\n",
       "  <tbody>\n",
       "    <tr>\n",
       "      <th>0</th>\n",
       "      <td>1</td>\n",
       "      <td>45</td>\n",
       "      <td>sudhanshu</td>\n",
       "      <td>1</td>\n",
       "      <td>s</td>\n",
       "      <td>1</td>\n",
       "      <td>s</td>\n",
       "      <td>s</td>\n",
       "    </tr>\n",
       "    <tr>\n",
       "      <th>1</th>\n",
       "      <td>2</td>\n",
       "      <td>56</td>\n",
       "      <td>kumar</td>\n",
       "      <td>4</td>\n",
       "      <td>k</td>\n",
       "      <td>4</td>\n",
       "      <td>z</td>\n",
       "      <td>z</td>\n",
       "    </tr>\n",
       "    <tr>\n",
       "      <th>2</th>\n",
       "      <td>3</td>\n",
       "      <td>67</td>\n",
       "      <td>krish</td>\n",
       "      <td>9</td>\n",
       "      <td>k</td>\n",
       "      <td>9</td>\n",
       "      <td>z</td>\n",
       "      <td>z</td>\n",
       "    </tr>\n",
       "    <tr>\n",
       "      <th>3</th>\n",
       "      <td>4</td>\n",
       "      <td>34</td>\n",
       "      <td>ineuron</td>\n",
       "      <td>16</td>\n",
       "      <td>i</td>\n",
       "      <td>16</td>\n",
       "      <td>z</td>\n",
       "      <td>z</td>\n",
       "    </tr>\n",
       "    <tr>\n",
       "      <th>4</th>\n",
       "      <td>5</td>\n",
       "      <td>34</td>\n",
       "      <td>one</td>\n",
       "      <td>25</td>\n",
       "      <td>o</td>\n",
       "      <td>25</td>\n",
       "      <td>z</td>\n",
       "      <td>z</td>\n",
       "    </tr>\n",
       "  </tbody>\n",
       "</table>\n",
       "</div>"
      ],
      "text/plain": [
       "   col1  col2       col3  col4 col5  col4_4 col6 col6_6\n",
       "0     1    45  sudhanshu     1    s       1    s      s\n",
       "1     2    56      kumar     4    k       4    z      z\n",
       "2     3    67      krish     9    k       9    z      z\n",
       "3     4    34    ineuron    16    i      16    z      z\n",
       "4     5    34        one    25    o      25    z      z"
      ]
     },
     "execution_count": 25,
     "metadata": {},
     "output_type": "execute_result"
    }
   ],
   "source": [
    "df"
   ]
  },
  {
   "cell_type": "code",
   "execution_count": 28,
   "id": "eb077e7c",
   "metadata": {},
   "outputs": [],
   "source": [
    "df[\"col7\"] = df[\"col3\"].apply(len)"
   ]
  },
  {
   "cell_type": "code",
   "execution_count": 29,
   "id": "960ad417",
   "metadata": {},
   "outputs": [
    {
     "data": {
      "text/html": [
       "<div>\n",
       "<style scoped>\n",
       "    .dataframe tbody tr th:only-of-type {\n",
       "        vertical-align: middle;\n",
       "    }\n",
       "\n",
       "    .dataframe tbody tr th {\n",
       "        vertical-align: top;\n",
       "    }\n",
       "\n",
       "    .dataframe thead th {\n",
       "        text-align: right;\n",
       "    }\n",
       "</style>\n",
       "<table border=\"1\" class=\"dataframe\">\n",
       "  <thead>\n",
       "    <tr style=\"text-align: right;\">\n",
       "      <th></th>\n",
       "      <th>col1</th>\n",
       "      <th>col2</th>\n",
       "      <th>col3</th>\n",
       "      <th>col4</th>\n",
       "      <th>col5</th>\n",
       "      <th>col4_4</th>\n",
       "      <th>col6</th>\n",
       "      <th>col6_6</th>\n",
       "      <th>col7</th>\n",
       "    </tr>\n",
       "  </thead>\n",
       "  <tbody>\n",
       "    <tr>\n",
       "      <th>0</th>\n",
       "      <td>1</td>\n",
       "      <td>45</td>\n",
       "      <td>sudhanshu</td>\n",
       "      <td>1</td>\n",
       "      <td>s</td>\n",
       "      <td>1</td>\n",
       "      <td>s</td>\n",
       "      <td>s</td>\n",
       "      <td>9</td>\n",
       "    </tr>\n",
       "    <tr>\n",
       "      <th>1</th>\n",
       "      <td>2</td>\n",
       "      <td>56</td>\n",
       "      <td>kumar</td>\n",
       "      <td>4</td>\n",
       "      <td>k</td>\n",
       "      <td>4</td>\n",
       "      <td>z</td>\n",
       "      <td>z</td>\n",
       "      <td>5</td>\n",
       "    </tr>\n",
       "    <tr>\n",
       "      <th>2</th>\n",
       "      <td>3</td>\n",
       "      <td>67</td>\n",
       "      <td>krish</td>\n",
       "      <td>9</td>\n",
       "      <td>k</td>\n",
       "      <td>9</td>\n",
       "      <td>z</td>\n",
       "      <td>z</td>\n",
       "      <td>5</td>\n",
       "    </tr>\n",
       "    <tr>\n",
       "      <th>3</th>\n",
       "      <td>4</td>\n",
       "      <td>34</td>\n",
       "      <td>ineuron</td>\n",
       "      <td>16</td>\n",
       "      <td>i</td>\n",
       "      <td>16</td>\n",
       "      <td>z</td>\n",
       "      <td>z</td>\n",
       "      <td>7</td>\n",
       "    </tr>\n",
       "    <tr>\n",
       "      <th>4</th>\n",
       "      <td>5</td>\n",
       "      <td>34</td>\n",
       "      <td>one</td>\n",
       "      <td>25</td>\n",
       "      <td>o</td>\n",
       "      <td>25</td>\n",
       "      <td>z</td>\n",
       "      <td>z</td>\n",
       "      <td>3</td>\n",
       "    </tr>\n",
       "  </tbody>\n",
       "</table>\n",
       "</div>"
      ],
      "text/plain": [
       "   col1  col2       col3  col4 col5  col4_4 col6 col6_6  col7\n",
       "0     1    45  sudhanshu     1    s       1    s      s     9\n",
       "1     2    56      kumar     4    k       4    z      z     5\n",
       "2     3    67      krish     9    k       9    z      z     5\n",
       "3     4    34    ineuron    16    i      16    z      z     7\n",
       "4     5    34        one    25    o      25    z      z     3"
      ]
     },
     "execution_count": 29,
     "metadata": {},
     "output_type": "execute_result"
    }
   ],
   "source": [
    "df"
   ]
  },
  {
   "cell_type": "code",
   "execution_count": 33,
   "id": "7dae9c89",
   "metadata": {},
   "outputs": [],
   "source": [
    "import math"
   ]
  },
  {
   "cell_type": "code",
   "execution_count": 39,
   "id": "8bbd7fae",
   "metadata": {},
   "outputs": [],
   "source": [
    "df[\"col8\"]=df[\"col2\"].apply(math.log)"
   ]
  },
  {
   "cell_type": "code",
   "execution_count": 40,
   "id": "e5300355",
   "metadata": {},
   "outputs": [
    {
     "data": {
      "text/html": [
       "<div>\n",
       "<style scoped>\n",
       "    .dataframe tbody tr th:only-of-type {\n",
       "        vertical-align: middle;\n",
       "    }\n",
       "\n",
       "    .dataframe tbody tr th {\n",
       "        vertical-align: top;\n",
       "    }\n",
       "\n",
       "    .dataframe thead th {\n",
       "        text-align: right;\n",
       "    }\n",
       "</style>\n",
       "<table border=\"1\" class=\"dataframe\">\n",
       "  <thead>\n",
       "    <tr style=\"text-align: right;\">\n",
       "      <th></th>\n",
       "      <th>col1</th>\n",
       "      <th>col2</th>\n",
       "      <th>col3</th>\n",
       "      <th>col4</th>\n",
       "      <th>col5</th>\n",
       "      <th>col4_4</th>\n",
       "      <th>col6</th>\n",
       "      <th>col6_6</th>\n",
       "      <th>col7</th>\n",
       "      <th>col8</th>\n",
       "    </tr>\n",
       "  </thead>\n",
       "  <tbody>\n",
       "    <tr>\n",
       "      <th>0</th>\n",
       "      <td>1</td>\n",
       "      <td>45</td>\n",
       "      <td>sudhanshu</td>\n",
       "      <td>1</td>\n",
       "      <td>s</td>\n",
       "      <td>1</td>\n",
       "      <td>s</td>\n",
       "      <td>s</td>\n",
       "      <td>9</td>\n",
       "      <td>3.806662</td>\n",
       "    </tr>\n",
       "    <tr>\n",
       "      <th>1</th>\n",
       "      <td>2</td>\n",
       "      <td>56</td>\n",
       "      <td>kumar</td>\n",
       "      <td>4</td>\n",
       "      <td>k</td>\n",
       "      <td>4</td>\n",
       "      <td>z</td>\n",
       "      <td>z</td>\n",
       "      <td>5</td>\n",
       "      <td>4.025352</td>\n",
       "    </tr>\n",
       "    <tr>\n",
       "      <th>2</th>\n",
       "      <td>3</td>\n",
       "      <td>67</td>\n",
       "      <td>krish</td>\n",
       "      <td>9</td>\n",
       "      <td>k</td>\n",
       "      <td>9</td>\n",
       "      <td>z</td>\n",
       "      <td>z</td>\n",
       "      <td>5</td>\n",
       "      <td>4.204693</td>\n",
       "    </tr>\n",
       "    <tr>\n",
       "      <th>3</th>\n",
       "      <td>4</td>\n",
       "      <td>34</td>\n",
       "      <td>ineuron</td>\n",
       "      <td>16</td>\n",
       "      <td>i</td>\n",
       "      <td>16</td>\n",
       "      <td>z</td>\n",
       "      <td>z</td>\n",
       "      <td>7</td>\n",
       "      <td>3.526361</td>\n",
       "    </tr>\n",
       "    <tr>\n",
       "      <th>4</th>\n",
       "      <td>5</td>\n",
       "      <td>34</td>\n",
       "      <td>one</td>\n",
       "      <td>25</td>\n",
       "      <td>o</td>\n",
       "      <td>25</td>\n",
       "      <td>z</td>\n",
       "      <td>z</td>\n",
       "      <td>3</td>\n",
       "      <td>3.526361</td>\n",
       "    </tr>\n",
       "  </tbody>\n",
       "</table>\n",
       "</div>"
      ],
      "text/plain": [
       "   col1  col2       col3  col4 col5  col4_4 col6 col6_6  col7      col8\n",
       "0     1    45  sudhanshu     1    s       1    s      s     9  3.806662\n",
       "1     2    56      kumar     4    k       4    z      z     5  4.025352\n",
       "2     3    67      krish     9    k       9    z      z     5  4.204693\n",
       "3     4    34    ineuron    16    i      16    z      z     7  3.526361\n",
       "4     5    34        one    25    o      25    z      z     3  3.526361"
      ]
     },
     "execution_count": 40,
     "metadata": {},
     "output_type": "execute_result"
    }
   ],
   "source": [
    "df"
   ]
  },
  {
   "cell_type": "markdown",
   "id": "231d7001",
   "metadata": {},
   "source": [
    "## numpy"
   ]
  },
  {
   "cell_type": "code",
   "execution_count": 41,
   "id": "29414678",
   "metadata": {},
   "outputs": [],
   "source": [
    "import numpy as np"
   ]
  },
  {
   "cell_type": "code",
   "execution_count": 42,
   "id": "9790b09d",
   "metadata": {},
   "outputs": [],
   "source": [
    " l=[1,2,3,4,\"sudh\"]"
   ]
  },
  {
   "cell_type": "code",
   "execution_count": 43,
   "id": "f8ad1a2f",
   "metadata": {},
   "outputs": [
    {
     "data": {
      "text/plain": [
       "list"
      ]
     },
     "execution_count": 43,
     "metadata": {},
     "output_type": "execute_result"
    }
   ],
   "source": [
    "type(l)"
   ]
  },
  {
   "cell_type": "code",
   "execution_count": 44,
   "id": "3d7f54ed",
   "metadata": {},
   "outputs": [
    {
     "data": {
      "text/plain": [
       "array(['1', '2', '3', '4', 'sudh'], dtype='<U11')"
      ]
     },
     "execution_count": 44,
     "metadata": {},
     "output_type": "execute_result"
    }
   ],
   "source": [
    "np.array(l)"
   ]
  },
  {
   "cell_type": "code",
   "execution_count": 45,
   "id": "ac4d0392",
   "metadata": {},
   "outputs": [
    {
     "data": {
      "text/plain": [
       "numpy.ndarray"
      ]
     },
     "execution_count": 45,
     "metadata": {},
     "output_type": "execute_result"
    }
   ],
   "source": [
    "type(np.array(l))"
   ]
  },
  {
   "cell_type": "code",
   "execution_count": 46,
   "id": "229a0cb3",
   "metadata": {},
   "outputs": [
    {
     "data": {
      "text/plain": [
       "array([1., 2., 3., 4., 5.])"
      ]
     },
     "execution_count": 46,
     "metadata": {},
     "output_type": "execute_result"
    }
   ],
   "source": [
    "np.array([1,2,3,4,5.0])   # this will convert all int number into float number"
   ]
  },
  {
   "cell_type": "code",
   "execution_count": 49,
   "id": "4d36c7a1",
   "metadata": {},
   "outputs": [],
   "source": [
    "a=np.array([[1,2],[3,4]])"
   ]
  },
  {
   "cell_type": "code",
   "execution_count": 50,
   "id": "92df8086",
   "metadata": {},
   "outputs": [
    {
     "data": {
      "text/plain": [
       "array([[1, 2],\n",
       "       [3, 4]])"
      ]
     },
     "execution_count": 50,
     "metadata": {},
     "output_type": "execute_result"
    }
   ],
   "source": [
    "a"
   ]
  },
  {
   "cell_type": "code",
   "execution_count": 51,
   "id": "ab938073",
   "metadata": {},
   "outputs": [
    {
     "data": {
      "text/plain": [
       "4"
      ]
     },
     "execution_count": 51,
     "metadata": {},
     "output_type": "execute_result"
    }
   ],
   "source": [
    "a[1][1]"
   ]
  },
  {
   "cell_type": "code",
   "execution_count": 52,
   "id": "36ad9f76",
   "metadata": {},
   "outputs": [
    {
     "data": {
      "text/plain": [
       "3"
      ]
     },
     "execution_count": 52,
     "metadata": {},
     "output_type": "execute_result"
    }
   ],
   "source": [
    "a[1][0]"
   ]
  },
  {
   "cell_type": "code",
   "execution_count": 53,
   "id": "509da01b",
   "metadata": {},
   "outputs": [
    {
     "data": {
      "text/plain": [
       "array([1, 2, 3, 4])"
      ]
     },
     "execution_count": 53,
     "metadata": {},
     "output_type": "execute_result"
    }
   ],
   "source": [
    "np.array([1,2,3,4])"
   ]
  },
  {
   "cell_type": "code",
   "execution_count": 54,
   "id": "a4dd2c15",
   "metadata": {},
   "outputs": [
    {
     "data": {
      "text/plain": [
       "array([[[1, 2, 3, 4]]])"
      ]
     },
     "execution_count": 54,
     "metadata": {},
     "output_type": "execute_result"
    }
   ],
   "source": [
    "np.array([1,2,3,4],ndmin=3)   # ndmin is a diamention of array"
   ]
  },
  {
   "cell_type": "code",
   "execution_count": 55,
   "id": "88593e1d",
   "metadata": {},
   "outputs": [],
   "source": [
    "a=np.array([1,2,3,4], ndmin=3)"
   ]
  },
  {
   "cell_type": "code",
   "execution_count": 56,
   "id": "c28077db",
   "metadata": {},
   "outputs": [
    {
     "data": {
      "text/plain": [
       "1"
      ]
     },
     "execution_count": 56,
     "metadata": {},
     "output_type": "execute_result"
    }
   ],
   "source": [
    "a[0][0][0]"
   ]
  },
  {
   "cell_type": "code",
   "execution_count": 57,
   "id": "12530e50",
   "metadata": {},
   "outputs": [
    {
     "data": {
      "text/plain": [
       "array([1, 2, 3, 4])"
      ]
     },
     "execution_count": 57,
     "metadata": {},
     "output_type": "execute_result"
    }
   ],
   "source": [
    "np.asarray([1,2,3,4])"
   ]
  },
  {
   "cell_type": "code",
   "execution_count": 58,
   "id": "7968deaf",
   "metadata": {},
   "outputs": [
    {
     "data": {
      "text/plain": [
       "array([1, 2, 3, 4])"
      ]
     },
     "execution_count": 58,
     "metadata": {},
     "output_type": "execute_result"
    }
   ],
   "source": [
    "np.asanyarray([1,2,3,4])"
   ]
  },
  {
   "cell_type": "code",
   "execution_count": 60,
   "id": "e5641a0a",
   "metadata": {},
   "outputs": [
    {
     "data": {
      "text/plain": [
       "matrix([[1, 2, 3, 4, 5]])"
      ]
     },
     "execution_count": 60,
     "metadata": {},
     "output_type": "execute_result"
    }
   ],
   "source": [
    "np.mat([1,2,3,4,5])    # matrix try to return 2D array"
   ]
  },
  {
   "cell_type": "code",
   "execution_count": 61,
   "id": "e38988f4",
   "metadata": {},
   "outputs": [
    {
     "data": {
      "text/plain": [
       "array([1, 2, 3, 4, 5])"
      ]
     },
     "execution_count": 61,
     "metadata": {},
     "output_type": "execute_result"
    }
   ],
   "source": [
    "a=[1,2,3,4,5]\n",
    "np.array(a)"
   ]
  },
  {
   "cell_type": "code",
   "execution_count": 62,
   "id": "8423c9c7",
   "metadata": {},
   "outputs": [
    {
     "data": {
      "text/plain": [
       "array([1, 2, 3, 4, 5])"
      ]
     },
     "execution_count": 62,
     "metadata": {},
     "output_type": "execute_result"
    }
   ],
   "source": [
    "np.asarray(a)"
   ]
  },
  {
   "cell_type": "code",
   "execution_count": 63,
   "id": "ac1be1ff",
   "metadata": {},
   "outputs": [
    {
     "data": {
      "text/plain": [
       "matrix([[1, 2, 3, 4, 5]])"
      ]
     },
     "execution_count": 63,
     "metadata": {},
     "output_type": "execute_result"
    }
   ],
   "source": [
    "np.mat(a)"
   ]
  },
  {
   "cell_type": "code",
   "execution_count": 64,
   "id": "243986b6",
   "metadata": {},
   "outputs": [
    {
     "data": {
      "text/plain": [
       "array([1, 2, 3, 4, 5])"
      ]
     },
     "execution_count": 64,
     "metadata": {},
     "output_type": "execute_result"
    }
   ],
   "source": [
    "np.asanyarray(a)"
   ]
  },
  {
   "cell_type": "code",
   "execution_count": 66,
   "id": "501074ac",
   "metadata": {},
   "outputs": [
    {
     "data": {
      "text/plain": [
       "matrix([[1, 2, 3, 4, 5]])"
      ]
     },
     "execution_count": 66,
     "metadata": {},
     "output_type": "execute_result"
    }
   ],
   "source": [
    "np.asanyarray(np.mat(a))  # not converting in to array \n",
    "                          # asanyarray convert into array if it is not an array if it is array then it not convert "
   ]
  },
  {
   "cell_type": "code",
   "execution_count": 68,
   "id": "b0962703",
   "metadata": {},
   "outputs": [
    {
     "data": {
      "text/plain": [
       "array([[ True, False, False],\n",
       "       [False,  True, False],\n",
       "       [False, False,  True]])"
      ]
     },
     "execution_count": 68,
     "metadata": {},
     "output_type": "execute_result"
    }
   ],
   "source": [
    "np.fromfunction(lambda i,j : i==j ,(3,3))"
   ]
  },
  {
   "cell_type": "code",
   "execution_count": 69,
   "id": "d6c3cdbb",
   "metadata": {},
   "outputs": [
    {
     "data": {
      "text/plain": [
       "array([[0., 0., 0., 0.],\n",
       "       [0., 1., 2., 3.],\n",
       "       [0., 2., 4., 6.],\n",
       "       [0., 3., 6., 9.]])"
      ]
     },
     "execution_count": 69,
     "metadata": {},
     "output_type": "execute_result"
    }
   ],
   "source": [
    "np.fromfunction(lambda i, j :i*j ,(4,4))"
   ]
  },
  {
   "cell_type": "code",
   "execution_count": 70,
   "id": "e64309ba",
   "metadata": {},
   "outputs": [
    {
     "data": {
      "text/plain": [
       "array([[0, 0, 0, 0],\n",
       "       [0, 1, 2, 3],\n",
       "       [0, 2, 4, 6],\n",
       "       [0, 3, 6, 9]])"
      ]
     },
     "execution_count": 70,
     "metadata": {},
     "output_type": "execute_result"
    }
   ],
   "source": [
    "np.fromfunction(lambda i, j :i*j ,(4,4),dtype=int)"
   ]
  },
  {
   "cell_type": "code",
   "execution_count": 71,
   "id": "2e951a7a",
   "metadata": {},
   "outputs": [
    {
     "data": {
      "text/plain": [
       "matrix([[0., 0., 0., 0.],\n",
       "        [0., 1., 2., 3.],\n",
       "        [0., 2., 4., 6.],\n",
       "        [0., 3., 6., 9.]])"
      ]
     },
     "execution_count": 71,
     "metadata": {},
     "output_type": "execute_result"
    }
   ],
   "source": [
    "np.mat(np.fromfunction(lambda i, j :i*j ,(4,4)))"
   ]
  },
  {
   "cell_type": "code",
   "execution_count": 72,
   "id": "5867cb2a",
   "metadata": {},
   "outputs": [
    {
     "data": {
      "text/plain": [
       "array([[[0, 0],\n",
       "        [0, 0],\n",
       "        [0, 0]],\n",
       "\n",
       "       [[0, 0],\n",
       "        [0, 1],\n",
       "        [0, 2]],\n",
       "\n",
       "       [[0, 0],\n",
       "        [0, 2],\n",
       "        [0, 4]]])"
      ]
     },
     "execution_count": 72,
     "metadata": {},
     "output_type": "execute_result"
    }
   ],
   "source": [
    "np.fromfunction(lambda i,j,z:i*j*z,(3,3,2),dtype=int)"
   ]
  },
  {
   "cell_type": "code",
   "execution_count": 74,
   "id": "35fbd7f9",
   "metadata": {},
   "outputs": [
    {
     "data": {
      "text/plain": [
       "array([[[[0, 0],\n",
       "         [0, 0]],\n",
       "\n",
       "        [[0, 0],\n",
       "         [0, 0]],\n",
       "\n",
       "        [[0, 0],\n",
       "         [0, 0]]],\n",
       "\n",
       "\n",
       "       [[[0, 0],\n",
       "         [0, 0]],\n",
       "\n",
       "        [[0, 0],\n",
       "         [0, 1]],\n",
       "\n",
       "        [[0, 0],\n",
       "         [0, 2]]],\n",
       "\n",
       "\n",
       "       [[[0, 0],\n",
       "         [0, 0]],\n",
       "\n",
       "        [[0, 0],\n",
       "         [0, 2]],\n",
       "\n",
       "        [[0, 0],\n",
       "         [0, 4]]],\n",
       "\n",
       "\n",
       "       [[[0, 0],\n",
       "         [0, 0]],\n",
       "\n",
       "        [[0, 0],\n",
       "         [0, 3]],\n",
       "\n",
       "        [[0, 0],\n",
       "         [0, 6]]]])"
      ]
     },
     "execution_count": 74,
     "metadata": {},
     "output_type": "execute_result"
    }
   ],
   "source": [
    "np.fromfunction(lambda i,j,z,p:i*j*z*p,(4,3,2,2),dtype=int)"
   ]
  },
  {
   "cell_type": "code",
   "execution_count": 84,
   "id": "e01d872a",
   "metadata": {},
   "outputs": [],
   "source": [
    "a=np.fromfunction(lambda i,j:i*j,(3,2),dtype=int)"
   ]
  },
  {
   "cell_type": "code",
   "execution_count": 85,
   "id": "b827a3ec",
   "metadata": {},
   "outputs": [
    {
     "data": {
      "text/plain": [
       "array([[0, 0],\n",
       "       [0, 1],\n",
       "       [0, 2]])"
      ]
     },
     "execution_count": 85,
     "metadata": {},
     "output_type": "execute_result"
    }
   ],
   "source": [
    "a"
   ]
  },
  {
   "cell_type": "code",
   "execution_count": 86,
   "id": "c6cc0b87",
   "metadata": {},
   "outputs": [
    {
     "data": {
      "text/plain": [
       "2"
      ]
     },
     "execution_count": 86,
     "metadata": {},
     "output_type": "execute_result"
    }
   ],
   "source": [
    "a.ndim\n"
   ]
  },
  {
   "cell_type": "code",
   "execution_count": 106,
   "id": "f8c602e2",
   "metadata": {},
   "outputs": [],
   "source": [
    "a=np.fromfunction(lambda i,j,z:i*j*z,(4,3,2),dtype=int)"
   ]
  },
  {
   "cell_type": "code",
   "execution_count": 113,
   "id": "7cff2a4f",
   "metadata": {},
   "outputs": [
    {
     "data": {
      "text/plain": [
       "array([[0, 0, 0, 0, 0, 0],\n",
       "       [0, 0, 0, 1, 0, 2],\n",
       "       [0, 0, 0, 2, 0, 4],\n",
       "       [0, 0, 0, 3, 0, 6]])"
      ]
     },
     "execution_count": 113,
     "metadata": {},
     "output_type": "execute_result"
    }
   ],
   "source": [
    "a.reshape(4,-1)   # by default it take -1 as 6 for converting to 2D  4 x 6 = 24\n",
    "                  #"
   ]
  },
  {
   "cell_type": "code",
   "execution_count": 114,
   "id": "b40b0fdf",
   "metadata": {},
   "outputs": [
    {
     "data": {
      "text/plain": [
       "array([[0, 0, 0, 0, 0, 0],\n",
       "       [0, 0, 0, 1, 0, 2],\n",
       "       [0, 0, 0, 2, 0, 4],\n",
       "       [0, 0, 0, 3, 0, 6]])"
      ]
     },
     "execution_count": 114,
     "metadata": {},
     "output_type": "execute_result"
    }
   ],
   "source": [
    "a.reshape(4,-13434)  # its for any -ve number"
   ]
  },
  {
   "cell_type": "code",
   "execution_count": 115,
   "id": "41722bf2",
   "metadata": {},
   "outputs": [
    {
     "data": {
      "text/plain": [
       "array([[[0, 0, 0],\n",
       "        [0, 0, 0],\n",
       "        [0, 0, 0],\n",
       "        [1, 0, 2]],\n",
       "\n",
       "       [[0, 0, 0],\n",
       "        [2, 0, 4],\n",
       "        [0, 0, 0],\n",
       "        [3, 0, 6]]])"
      ]
     },
     "execution_count": 115,
     "metadata": {},
     "output_type": "execute_result"
    }
   ],
   "source": [
    "a.reshape(2,4,-234)"
   ]
  },
  {
   "cell_type": "code",
   "execution_count": 107,
   "id": "51d40be4",
   "metadata": {},
   "outputs": [
    {
     "data": {
      "text/plain": [
       "array([[0, 0],\n",
       "       [0, 0],\n",
       "       [0, 0],\n",
       "       [0, 0],\n",
       "       [0, 1],\n",
       "       [0, 2],\n",
       "       [0, 0],\n",
       "       [0, 2],\n",
       "       [0, 4],\n",
       "       [0, 0],\n",
       "       [0, 3],\n",
       "       [0, 6]])"
      ]
     },
     "execution_count": 107,
     "metadata": {},
     "output_type": "execute_result"
    }
   ],
   "source": [
    "a.reshape(12,2)  # by reshape we can change the dimention of array "
   ]
  },
  {
   "cell_type": "code",
   "execution_count": 112,
   "id": "5133c330",
   "metadata": {},
   "outputs": [
    {
     "data": {
      "text/plain": [
       "array([[[[[[0]],\n",
       "\n",
       "          [[0]],\n",
       "\n",
       "          [[0]]]],\n",
       "\n",
       "\n",
       "\n",
       "        [[[[0]],\n",
       "\n",
       "          [[0]],\n",
       "\n",
       "          [[0]]]]],\n",
       "\n",
       "\n",
       "\n",
       "\n",
       "       [[[[[0]],\n",
       "\n",
       "          [[0]],\n",
       "\n",
       "          [[0]]]],\n",
       "\n",
       "\n",
       "\n",
       "        [[[[1]],\n",
       "\n",
       "          [[0]],\n",
       "\n",
       "          [[2]]]]],\n",
       "\n",
       "\n",
       "\n",
       "\n",
       "       [[[[[0]],\n",
       "\n",
       "          [[0]],\n",
       "\n",
       "          [[0]]]],\n",
       "\n",
       "\n",
       "\n",
       "        [[[[2]],\n",
       "\n",
       "          [[0]],\n",
       "\n",
       "          [[4]]]]],\n",
       "\n",
       "\n",
       "\n",
       "\n",
       "       [[[[[0]],\n",
       "\n",
       "          [[0]],\n",
       "\n",
       "          [[0]]]],\n",
       "\n",
       "\n",
       "\n",
       "        [[[[3]],\n",
       "\n",
       "          [[0]],\n",
       "\n",
       "          [[6]]]]]])"
      ]
     },
     "execution_count": 112,
     "metadata": {},
     "output_type": "execute_result"
    }
   ],
   "source": [
    "a.reshape(4,2,1,3,1,1)"
   ]
  },
  {
   "cell_type": "code",
   "execution_count": 110,
   "id": "2ef2d0fd",
   "metadata": {},
   "outputs": [],
   "source": [
    "a=a.reshape(6,4)"
   ]
  },
  {
   "cell_type": "code",
   "execution_count": 111,
   "id": "dd9a5340",
   "metadata": {},
   "outputs": [
    {
     "data": {
      "text/html": [
       "<div>\n",
       "<style scoped>\n",
       "    .dataframe tbody tr th:only-of-type {\n",
       "        vertical-align: middle;\n",
       "    }\n",
       "\n",
       "    .dataframe tbody tr th {\n",
       "        vertical-align: top;\n",
       "    }\n",
       "\n",
       "    .dataframe thead th {\n",
       "        text-align: right;\n",
       "    }\n",
       "</style>\n",
       "<table border=\"1\" class=\"dataframe\">\n",
       "  <thead>\n",
       "    <tr style=\"text-align: right;\">\n",
       "      <th></th>\n",
       "      <th>0</th>\n",
       "      <th>1</th>\n",
       "      <th>2</th>\n",
       "      <th>3</th>\n",
       "    </tr>\n",
       "  </thead>\n",
       "  <tbody>\n",
       "    <tr>\n",
       "      <th>0</th>\n",
       "      <td>0</td>\n",
       "      <td>0</td>\n",
       "      <td>0</td>\n",
       "      <td>0</td>\n",
       "    </tr>\n",
       "    <tr>\n",
       "      <th>1</th>\n",
       "      <td>0</td>\n",
       "      <td>0</td>\n",
       "      <td>0</td>\n",
       "      <td>0</td>\n",
       "    </tr>\n",
       "    <tr>\n",
       "      <th>2</th>\n",
       "      <td>0</td>\n",
       "      <td>1</td>\n",
       "      <td>0</td>\n",
       "      <td>2</td>\n",
       "    </tr>\n",
       "    <tr>\n",
       "      <th>3</th>\n",
       "      <td>0</td>\n",
       "      <td>0</td>\n",
       "      <td>0</td>\n",
       "      <td>2</td>\n",
       "    </tr>\n",
       "    <tr>\n",
       "      <th>4</th>\n",
       "      <td>0</td>\n",
       "      <td>4</td>\n",
       "      <td>0</td>\n",
       "      <td>0</td>\n",
       "    </tr>\n",
       "    <tr>\n",
       "      <th>5</th>\n",
       "      <td>0</td>\n",
       "      <td>3</td>\n",
       "      <td>0</td>\n",
       "      <td>6</td>\n",
       "    </tr>\n",
       "  </tbody>\n",
       "</table>\n",
       "</div>"
      ],
      "text/plain": [
       "   0  1  2  3\n",
       "0  0  0  0  0\n",
       "1  0  0  0  0\n",
       "2  0  1  0  2\n",
       "3  0  0  0  2\n",
       "4  0  4  0  0\n",
       "5  0  3  0  6"
      ]
     },
     "execution_count": 111,
     "metadata": {},
     "output_type": "execute_result"
    }
   ],
   "source": [
    "pd.DataFrame(a)  # then we can convert into dataframe"
   ]
  },
  {
   "cell_type": "code",
   "execution_count": null,
   "id": "ae8c4149",
   "metadata": {},
   "outputs": [],
   "source": []
  },
  {
   "cell_type": "code",
   "execution_count": 87,
   "id": "117eb045",
   "metadata": {},
   "outputs": [
    {
     "data": {
      "text/plain": [
       "6"
      ]
     },
     "execution_count": 87,
     "metadata": {},
     "output_type": "execute_result"
    }
   ],
   "source": [
    "a.size"
   ]
  },
  {
   "cell_type": "code",
   "execution_count": 88,
   "id": "da92e2b4",
   "metadata": {},
   "outputs": [
    {
     "data": {
      "text/plain": [
       "(3, 2)"
      ]
     },
     "execution_count": 88,
     "metadata": {},
     "output_type": "execute_result"
    }
   ],
   "source": [
    "a.shape"
   ]
  },
  {
   "cell_type": "code",
   "execution_count": 89,
   "id": "56a2f242",
   "metadata": {},
   "outputs": [
    {
     "data": {
      "text/plain": [
       "dtype('int32')"
      ]
     },
     "execution_count": 89,
     "metadata": {},
     "output_type": "execute_result"
    }
   ],
   "source": [
    "a.dtype"
   ]
  },
  {
   "cell_type": "code",
   "execution_count": 90,
   "id": "d96d744b",
   "metadata": {},
   "outputs": [
    {
     "data": {
      "text/plain": [
       "array([[0, 0],\n",
       "       [0, 1],\n",
       "       [0, 2]])"
      ]
     },
     "execution_count": 90,
     "metadata": {},
     "output_type": "execute_result"
    }
   ],
   "source": [
    "a"
   ]
  },
  {
   "cell_type": "code",
   "execution_count": 91,
   "id": "3527d0d2",
   "metadata": {},
   "outputs": [],
   "source": [
    "import pandas as pd"
   ]
  },
  {
   "cell_type": "code",
   "execution_count": 92,
   "id": "ca2c7a5c",
   "metadata": {},
   "outputs": [
    {
     "data": {
      "text/html": [
       "<div>\n",
       "<style scoped>\n",
       "    .dataframe tbody tr th:only-of-type {\n",
       "        vertical-align: middle;\n",
       "    }\n",
       "\n",
       "    .dataframe tbody tr th {\n",
       "        vertical-align: top;\n",
       "    }\n",
       "\n",
       "    .dataframe thead th {\n",
       "        text-align: right;\n",
       "    }\n",
       "</style>\n",
       "<table border=\"1\" class=\"dataframe\">\n",
       "  <thead>\n",
       "    <tr style=\"text-align: right;\">\n",
       "      <th></th>\n",
       "      <th>0</th>\n",
       "      <th>1</th>\n",
       "    </tr>\n",
       "  </thead>\n",
       "  <tbody>\n",
       "    <tr>\n",
       "      <th>0</th>\n",
       "      <td>0</td>\n",
       "      <td>0</td>\n",
       "    </tr>\n",
       "    <tr>\n",
       "      <th>1</th>\n",
       "      <td>0</td>\n",
       "      <td>1</td>\n",
       "    </tr>\n",
       "    <tr>\n",
       "      <th>2</th>\n",
       "      <td>0</td>\n",
       "      <td>2</td>\n",
       "    </tr>\n",
       "  </tbody>\n",
       "</table>\n",
       "</div>"
      ],
      "text/plain": [
       "   0  1\n",
       "0  0  0\n",
       "1  0  1\n",
       "2  0  2"
      ]
     },
     "execution_count": 92,
     "metadata": {},
     "output_type": "execute_result"
    }
   ],
   "source": [
    "pd.DataFrame(a)  # to convert into dataframe data must be in 2D array "
   ]
  },
  {
   "cell_type": "code",
   "execution_count": 94,
   "id": "e1889ba3",
   "metadata": {},
   "outputs": [
    {
     "data": {
      "text/plain": [
       "array([[0.40015088, 0.94676585, 0.76866759, 0.44250768],\n",
       "       [0.32576441, 0.71474823, 0.59743085, 0.12021548],\n",
       "       [0.78285339, 0.50274519, 0.59108488, 0.61725267],\n",
       "       [0.79731363, 0.05918488, 0.04728443, 0.76791066],\n",
       "       [0.25771581, 0.71608328, 0.9366783 , 0.04713937],\n",
       "       [0.2450684 , 0.58162206, 0.05924757, 0.77962959],\n",
       "       [0.39720338, 0.936356  , 0.76232668, 0.01942759],\n",
       "       [0.18355627, 0.23834749, 0.26994354, 0.69205555],\n",
       "       [0.70041865, 0.74991993, 0.22387166, 0.70321528],\n",
       "       [0.90841048, 0.50363482, 0.86815569, 0.30827924],\n",
       "       [0.15077925, 0.51697497, 0.16442803, 0.48920249],\n",
       "       [0.70046994, 0.41488847, 0.62378203, 0.47724382],\n",
       "       [0.80951553, 0.37144088, 0.92540701, 0.33064616],\n",
       "       [0.23151258, 0.49890472, 0.82096037, 0.92381491],\n",
       "       [0.531321  , 0.1159138 , 0.94755913, 0.02383686],\n",
       "       [0.63889329, 0.59892907, 0.80713213, 0.14484844],\n",
       "       [0.5487499 , 0.42242709, 0.68219365, 0.6658568 ],\n",
       "       [0.24680604, 0.5631291 , 0.33363825, 0.11451119],\n",
       "       [0.64035391, 0.88725915, 0.86595569, 0.44914115],\n",
       "       [0.57210479, 0.47351209, 0.33967056, 0.23821526],\n",
       "       [0.87127023, 0.501128  , 0.63918974, 0.07905756],\n",
       "       [0.5716479 , 0.37637482, 0.82756306, 0.23333503],\n",
       "       [0.27251117, 0.95756728, 0.83668635, 0.76208451],\n",
       "       [0.94685855, 0.21741793, 0.63691729, 0.848978  ],\n",
       "       [0.09761551, 0.04467592, 0.02747082, 0.44932864],\n",
       "       [0.15704331, 0.03339113, 0.25177117, 0.97407603],\n",
       "       [0.57095394, 0.35062908, 0.29819988, 0.52957889],\n",
       "       [0.04827307, 0.89121978, 0.12555972, 0.44496396],\n",
       "       [0.42210313, 0.33840416, 0.53418668, 0.90784778],\n",
       "       [0.14989152, 0.56987459, 0.87712775, 0.76869338],\n",
       "       [0.76654398, 0.20635082, 0.44420048, 0.05585558],\n",
       "       [0.7697256 , 0.96080432, 0.84616161, 0.42543286],\n",
       "       [0.02249664, 0.55258663, 0.07264054, 0.87205744],\n",
       "       [0.35897596, 0.34855752, 0.13678498, 0.35627603],\n",
       "       [0.40771073, 0.98615468, 0.61494533, 0.24350503],\n",
       "       [0.26599456, 0.95959657, 0.57531539, 0.07989237],\n",
       "       [0.6146625 , 0.90306446, 0.08273255, 0.78342486],\n",
       "       [0.05532805, 0.75307544, 0.40372708, 0.77978009],\n",
       "       [0.53557265, 0.7174786 , 0.28482147, 0.3200754 ],\n",
       "       [0.16697305, 0.62818029, 0.21451005, 0.51969788],\n",
       "       [0.69746513, 0.82929352, 0.92555197, 0.71067153],\n",
       "       [0.30680313, 0.53213081, 0.56121428, 0.51402276],\n",
       "       [0.89997658, 0.62256445, 0.72479655, 0.81556577],\n",
       "       [0.30105047, 0.67696198, 0.83819974, 0.38366758],\n",
       "       [0.89481523, 0.87044143, 0.9854704 , 0.57633124],\n",
       "       [0.87598603, 0.16093711, 0.59401693, 0.00620966],\n",
       "       [0.56381136, 0.86312882, 0.6842583 , 0.49977526],\n",
       "       [0.12312934, 0.21881367, 0.11654709, 0.31668248],\n",
       "       [0.71979983, 0.17606206, 0.09951109, 0.2998633 ],\n",
       "       [0.82857333, 0.52475379, 0.02890798, 0.32593296],\n",
       "       [0.78656158, 0.97420569, 0.63920238, 0.0727515 ],\n",
       "       [0.70816082, 0.08191174, 0.48635322, 0.21667389],\n",
       "       [0.61352551, 0.71392723, 0.24332705, 0.98964771],\n",
       "       [0.6238425 , 0.47610338, 0.49416677, 0.51662741],\n",
       "       [0.07063479, 0.14905308, 0.62351337, 0.29455596],\n",
       "       [0.88603127, 0.70861595, 0.60704086, 0.32722415],\n",
       "       [0.47438451, 0.90227096, 0.67371185, 0.01088334],\n",
       "       [0.13654631, 0.04763783, 0.36402291, 0.2371949 ],\n",
       "       [0.99197843, 0.03994529, 0.34825032, 0.11600844],\n",
       "       [0.2427981 , 0.89517362, 0.18714353, 0.63984379],\n",
       "       [0.19636689, 0.86128507, 0.84606812, 0.3456543 ],\n",
       "       [0.3962452 , 0.80020166, 0.59652924, 0.06491426],\n",
       "       [0.13772451, 0.35001461, 0.35094892, 0.48124539],\n",
       "       [0.06320557, 0.78364633, 0.7985224 , 0.77464809],\n",
       "       [0.6479418 , 0.56767838, 0.54801803, 0.96323608],\n",
       "       [0.68484896, 0.58705869, 0.04419818, 0.01750584],\n",
       "       [0.63425273, 0.95999441, 0.90024095, 0.30512019],\n",
       "       [0.62856374, 0.79487331, 0.63591535, 0.14374193],\n",
       "       [0.47068006, 0.20776405, 0.67525665, 0.96062116],\n",
       "       [0.95884799, 0.67671533, 0.82440482, 0.71578628],\n",
       "       [0.82306809, 0.23268399, 0.28300645, 0.45010037],\n",
       "       [0.20724371, 0.89677461, 0.95531946, 0.33134956],\n",
       "       [0.05967873, 0.7497561 , 0.32576365, 0.34920566],\n",
       "       [0.84683975, 0.2637085 , 0.86302512, 0.48696099],\n",
       "       [0.23778436, 0.73002796, 0.54912486, 0.37130632],\n",
       "       [0.13597423, 0.88042604, 0.98524081, 0.63682888],\n",
       "       [0.54434266, 0.47263527, 0.70590998, 0.59151665],\n",
       "       [0.17322321, 0.47478023, 0.95871314, 0.32422124],\n",
       "       [0.80072907, 0.26653203, 0.93562683, 0.2984947 ],\n",
       "       [0.9347595 , 0.08713053, 0.25369498, 0.95328327],\n",
       "       [0.00251349, 0.45147748, 0.53723803, 0.61017698],\n",
       "       [0.38899329, 0.06469923, 0.11235763, 0.45656148],\n",
       "       [0.62000968, 0.52993696, 0.52892379, 0.08778759],\n",
       "       [0.01338649, 0.01780557, 0.30325343, 0.69475621],\n",
       "       [0.35667339, 0.24776773, 0.63585321, 0.59653517],\n",
       "       [0.12772809, 0.53128967, 0.83838938, 0.83744352],\n",
       "       [0.93633387, 0.10247842, 0.21924536, 0.00641527],\n",
       "       [0.21970298, 0.77455768, 0.72489833, 0.16204692],\n",
       "       [0.70903632, 0.26466437, 0.13820655, 0.92919542],\n",
       "       [0.94904606, 0.38930348, 0.69564146, 0.97551624],\n",
       "       [0.34032622, 0.4216071 , 0.64536166, 0.43634379],\n",
       "       [0.71717321, 0.47452444, 0.99512405, 0.73452264],\n",
       "       [0.36900435, 0.52003394, 0.33011762, 0.16277591],\n",
       "       [0.90025833, 0.63518095, 0.33811363, 0.4376511 ],\n",
       "       [0.69594195, 0.23747985, 0.23449021, 0.48234717],\n",
       "       [0.68261379, 0.77351878, 0.58013328, 0.19385928],\n",
       "       [0.49787603, 0.60230388, 0.47804655, 0.69917229],\n",
       "       [0.80970596, 0.72647092, 0.91911008, 0.62432449],\n",
       "       [0.69821543, 0.27631804, 0.90717971, 0.13786646],\n",
       "       [0.44025248, 0.63103728, 0.20313451, 0.42554387]])"
      ]
     },
     "execution_count": 94,
     "metadata": {},
     "output_type": "execute_result"
    }
   ],
   "source": [
    "np.random.rand(100,4)   # genrate 100 *4 values"
   ]
  },
  {
   "cell_type": "code",
   "execution_count": 99,
   "id": "6762d6db",
   "metadata": {},
   "outputs": [
    {
     "data": {
      "text/plain": [
       "32"
      ]
     },
     "execution_count": 99,
     "metadata": {},
     "output_type": "execute_result"
    }
   ],
   "source": [
    "np.random.randint(4,50)   # genrate random int btn 4 to 50"
   ]
  },
  {
   "cell_type": "code",
   "execution_count": 101,
   "id": "7dd6ddd5",
   "metadata": {},
   "outputs": [
    {
     "data": {
      "text/plain": [
       "array([[ 0.3021197 , -2.08131185,  0.54308423,  1.1296945 , -0.78919092],\n",
       "       [-0.51091793, -0.62212985,  0.50725123,  0.00708717, -1.55050623],\n",
       "       [ 1.06955701,  0.26257614,  0.89090405, -1.01374775, -0.26222629],\n",
       "       [-0.27568747, -0.84565405, -0.57429977, -1.01770344,  0.84433764]])"
      ]
     },
     "execution_count": 101,
     "metadata": {},
     "output_type": "execute_result"
    }
   ],
   "source": [
    "np.random.randn(4,5) # randn give numbers which avrage is 0 "
   ]
  },
  {
   "cell_type": "code",
   "execution_count": 103,
   "id": "834adb47",
   "metadata": {},
   "outputs": [
    {
     "data": {
      "text/html": [
       "<div>\n",
       "<style scoped>\n",
       "    .dataframe tbody tr th:only-of-type {\n",
       "        vertical-align: middle;\n",
       "    }\n",
       "\n",
       "    .dataframe tbody tr th {\n",
       "        vertical-align: top;\n",
       "    }\n",
       "\n",
       "    .dataframe thead th {\n",
       "        text-align: right;\n",
       "    }\n",
       "</style>\n",
       "<table border=\"1\" class=\"dataframe\">\n",
       "  <thead>\n",
       "    <tr style=\"text-align: right;\">\n",
       "      <th></th>\n",
       "      <th>0</th>\n",
       "      <th>1</th>\n",
       "      <th>2</th>\n",
       "      <th>3</th>\n",
       "      <th>4</th>\n",
       "    </tr>\n",
       "  </thead>\n",
       "  <tbody>\n",
       "    <tr>\n",
       "      <th>0</th>\n",
       "      <td>1.968081</td>\n",
       "      <td>1.218830</td>\n",
       "      <td>-0.580374</td>\n",
       "      <td>0.463307</td>\n",
       "      <td>0.426983</td>\n",
       "    </tr>\n",
       "    <tr>\n",
       "      <th>1</th>\n",
       "      <td>-0.178829</td>\n",
       "      <td>-1.331622</td>\n",
       "      <td>0.069544</td>\n",
       "      <td>-2.278775</td>\n",
       "      <td>-2.057417</td>\n",
       "    </tr>\n",
       "    <tr>\n",
       "      <th>2</th>\n",
       "      <td>1.831350</td>\n",
       "      <td>0.479438</td>\n",
       "      <td>0.491179</td>\n",
       "      <td>-0.305171</td>\n",
       "      <td>-0.385070</td>\n",
       "    </tr>\n",
       "    <tr>\n",
       "      <th>3</th>\n",
       "      <td>0.267739</td>\n",
       "      <td>-0.959690</td>\n",
       "      <td>0.603533</td>\n",
       "      <td>0.123590</td>\n",
       "      <td>-0.462238</td>\n",
       "    </tr>\n",
       "  </tbody>\n",
       "</table>\n",
       "</div>"
      ],
      "text/plain": [
       "          0         1         2         3         4\n",
       "0  1.968081  1.218830 -0.580374  0.463307  0.426983\n",
       "1 -0.178829 -1.331622  0.069544 -2.278775 -2.057417\n",
       "2  1.831350  0.479438  0.491179 -0.305171 -0.385070\n",
       "3  0.267739 -0.959690  0.603533  0.123590 -0.462238"
      ]
     },
     "execution_count": 103,
     "metadata": {},
     "output_type": "execute_result"
    }
   ],
   "source": [
    "pd.DataFrame(np.random.randn(4,5)) "
   ]
  },
  {
   "cell_type": "code",
   "execution_count": 116,
   "id": "ea5f2171",
   "metadata": {},
   "outputs": [
    {
     "data": {
      "text/plain": [
       "[4, 5, 6, 7, 8, 9]"
      ]
     },
     "execution_count": 116,
     "metadata": {},
     "output_type": "execute_result"
    }
   ],
   "source": [
    "list(range(4,10))"
   ]
  },
  {
   "cell_type": "code",
   "execution_count": 118,
   "id": "3c463fcd",
   "metadata": {},
   "outputs": [
    {
     "ename": "TypeError",
     "evalue": "'float' object cannot be interpreted as an integer",
     "output_type": "error",
     "traceback": [
      "\u001b[1;31m---------------------------------------------------------------------------\u001b[0m",
      "\u001b[1;31mTypeError\u001b[0m                                 Traceback (most recent call last)",
      "Input \u001b[1;32mIn [118]\u001b[0m, in \u001b[0;36m<cell line: 1>\u001b[1;34m()\u001b[0m\n\u001b[1;32m----> 1\u001b[0m \u001b[38;5;28mlist\u001b[39m(\u001b[38;5;28;43mrange\u001b[39;49m\u001b[43m(\u001b[49m\u001b[38;5;241;43m4\u001b[39;49m\u001b[43m,\u001b[49m\u001b[38;5;241;43m10\u001b[39;49m\u001b[43m,\u001b[49m\u001b[38;5;241;43m.2\u001b[39;49m\u001b[43m)\u001b[49m)\n",
      "\u001b[1;31mTypeError\u001b[0m: 'float' object cannot be interpreted as an integer"
     ]
    }
   ],
   "source": [
    "list(range(4,10,.2))   # it required step as a integer"
   ]
  },
  {
   "cell_type": "code",
   "execution_count": 117,
   "id": "93596f8b",
   "metadata": {},
   "outputs": [
    {
     "data": {
      "text/plain": [
       "array([4. , 4.2, 4.4, 4.6, 4.8, 5. , 5.2, 5.4, 5.6, 5.8, 6. , 6.2, 6.4,\n",
       "       6.6, 6.8, 7. , 7.2, 7.4, 7.6, 7.8, 8. , 8.2, 8.4, 8.6, 8.8, 9. ,\n",
       "       9.2, 9.4, 9.6, 9.8])"
      ]
     },
     "execution_count": 117,
     "metadata": {},
     "output_type": "execute_result"
    }
   ],
   "source": [
    "np.arange(4,10,0.2)    # we can use float value in step , first and last values in numpy nrange"
   ]
  },
  {
   "cell_type": "code",
   "execution_count": 119,
   "id": "c6c97bfa",
   "metadata": {},
   "outputs": [],
   "source": [
    "a1=np.arange(4,10,0.2) "
   ]
  },
  {
   "cell_type": "code",
   "execution_count": 120,
   "id": "15b33941",
   "metadata": {},
   "outputs": [
    {
     "data": {
      "text/plain": [
       "array([4.2, 4.4, 4.6])"
      ]
     },
     "execution_count": 120,
     "metadata": {},
     "output_type": "execute_result"
    }
   ],
   "source": [
    "a1[1:4]"
   ]
  },
  {
   "cell_type": "code",
   "execution_count": 121,
   "id": "1040ab6e",
   "metadata": {},
   "outputs": [],
   "source": [
    "arr= np.random.rand(4,5)"
   ]
  },
  {
   "cell_type": "code",
   "execution_count": 122,
   "id": "e843b730",
   "metadata": {},
   "outputs": [
    {
     "data": {
      "text/plain": [
       "array([[0.89042646, 0.72101041, 0.08068836, 0.56367251, 0.63406825],\n",
       "       [0.23400094, 0.16108789, 0.50114944, 0.56811474, 0.29440295],\n",
       "       [0.85424989, 0.54692089, 0.67662044, 0.21273575, 0.94238576],\n",
       "       [0.94091812, 0.84793763, 0.28843599, 0.91856608, 0.7714906 ]])"
      ]
     },
     "execution_count": 122,
     "metadata": {},
     "output_type": "execute_result"
    }
   ],
   "source": [
    "arr"
   ]
  },
  {
   "cell_type": "code",
   "execution_count": 124,
   "id": "9adf0a18",
   "metadata": {},
   "outputs": [
    {
     "data": {
      "text/plain": [
       "array([0.89042646, 0.72101041, 0.56367251, 0.63406825, 0.50114944,\n",
       "       0.56811474, 0.85424989, 0.54692089, 0.67662044, 0.94238576,\n",
       "       0.94091812, 0.84793763, 0.91856608, 0.7714906 ])"
      ]
     },
     "execution_count": 124,
     "metadata": {},
     "output_type": "execute_result"
    }
   ],
   "source": [
    "arr[arr > 0.5]"
   ]
  },
  {
   "cell_type": "code",
   "execution_count": 125,
   "id": "03f0a90b",
   "metadata": {},
   "outputs": [
    {
     "data": {
      "text/plain": [
       "array([[0.89042646, 0.72101041, 0.08068836, 0.56367251, 0.63406825],\n",
       "       [0.23400094, 0.16108789, 0.50114944, 0.56811474, 0.29440295],\n",
       "       [0.85424989, 0.54692089, 0.67662044, 0.21273575, 0.94238576],\n",
       "       [0.94091812, 0.84793763, 0.28843599, 0.91856608, 0.7714906 ]])"
      ]
     },
     "execution_count": 125,
     "metadata": {},
     "output_type": "execute_result"
    }
   ],
   "source": [
    "arr"
   ]
  },
  {
   "cell_type": "code",
   "execution_count": 130,
   "id": "6e86f74f",
   "metadata": {},
   "outputs": [
    {
     "data": {
      "text/plain": [
       "array([0.50114944, 0.67662044])"
      ]
     },
     "execution_count": 130,
     "metadata": {},
     "output_type": "execute_result"
    }
   ],
   "source": [
    "arr[[1,2],[2]]"
   ]
  },
  {
   "cell_type": "code",
   "execution_count": 131,
   "id": "ac267a2d",
   "metadata": {},
   "outputs": [],
   "source": [
    "arr= np.random.rand(8,5)"
   ]
  },
  {
   "cell_type": "code",
   "execution_count": 132,
   "id": "d379c4bb",
   "metadata": {},
   "outputs": [
    {
     "data": {
      "text/plain": [
       "array([[0.99533721, 0.62651174, 0.1478108 , 0.42051416, 0.75286233],\n",
       "       [0.53294614, 0.0347747 , 0.19773058, 0.6011246 , 0.39071092],\n",
       "       [0.23073318, 0.33454578, 0.10774392, 0.44333906, 0.48141184],\n",
       "       [0.16190829, 0.735097  , 0.83675674, 0.576277  , 0.74708425],\n",
       "       [0.79201034, 0.13087452, 0.75787029, 0.63378613, 0.82461223],\n",
       "       [0.34413782, 0.48647196, 0.88175039, 0.70828141, 0.31983316],\n",
       "       [0.83017815, 0.61248412, 0.37919503, 0.05919567, 0.19731626],\n",
       "       [0.21618641, 0.21617435, 0.40675935, 0.1083946 , 0.23067053]])"
      ]
     },
     "execution_count": 132,
     "metadata": {},
     "output_type": "execute_result"
    }
   ],
   "source": [
    "arr"
   ]
  },
  {
   "cell_type": "code",
   "execution_count": 136,
   "id": "9db06f8b",
   "metadata": {},
   "outputs": [
    {
     "data": {
      "text/plain": [
       "array([[0.53294614, 0.0347747 , 0.19773058],\n",
       "       [0.23073318, 0.33454578, 0.10774392],\n",
       "       [0.16190829, 0.735097  , 0.83675674],\n",
       "       [0.79201034, 0.13087452, 0.75787029],\n",
       "       [0.34413782, 0.48647196, 0.88175039],\n",
       "       [0.83017815, 0.61248412, 0.37919503],\n",
       "       [0.21618641, 0.21617435, 0.40675935]])"
      ]
     },
     "execution_count": 136,
     "metadata": {},
     "output_type": "execute_result"
    }
   ],
   "source": [
    "arr[1:8, 0:3]"
   ]
  },
  {
   "cell_type": "code",
   "execution_count": 140,
   "id": "1e5a6bb5",
   "metadata": {},
   "outputs": [],
   "source": [
    "a2=arr[1:7,[0,1,2,3]]"
   ]
  },
  {
   "cell_type": "code",
   "execution_count": 141,
   "id": "08ad65ba",
   "metadata": {},
   "outputs": [
    {
     "data": {
      "text/plain": [
       "array([[0.53294614, 0.0347747 , 0.19773058, 0.6011246 ],\n",
       "       [0.23073318, 0.33454578, 0.10774392, 0.44333906],\n",
       "       [0.16190829, 0.735097  , 0.83675674, 0.576277  ],\n",
       "       [0.79201034, 0.13087452, 0.75787029, 0.63378613],\n",
       "       [0.34413782, 0.48647196, 0.88175039, 0.70828141],\n",
       "       [0.83017815, 0.61248412, 0.37919503, 0.05919567]])"
      ]
     },
     "execution_count": 141,
     "metadata": {},
     "output_type": "execute_result"
    }
   ],
   "source": [
    "a2"
   ]
  },
  {
   "cell_type": "code",
   "execution_count": 149,
   "id": "c1923124",
   "metadata": {},
   "outputs": [],
   "source": [
    "a2[0][0] = 132"
   ]
  },
  {
   "cell_type": "code",
   "execution_count": 150,
   "id": "17f70ac2",
   "metadata": {},
   "outputs": [
    {
     "data": {
      "text/plain": [
       "array([[1.32000000e+02, 3.47747010e-02, 1.97730576e-01, 6.01124600e-01],\n",
       "       [2.30733179e-01, 3.34545776e-01, 1.07743916e-01, 4.43339063e-01],\n",
       "       [1.61908286e-01, 7.35096999e-01, 8.36756737e-01, 5.76277005e-01],\n",
       "       [7.92010338e-01, 1.30874523e-01, 7.57870293e-01, 6.33786127e-01],\n",
       "       [3.44137825e-01, 4.86471959e-01, 8.81750389e-01, 7.08281414e-01],\n",
       "       [8.30178153e-01, 6.12484123e-01, 3.79195026e-01, 5.91956714e-02]])"
      ]
     },
     "execution_count": 150,
     "metadata": {},
     "output_type": "execute_result"
    }
   ],
   "source": [
    "a2"
   ]
  },
  {
   "cell_type": "code",
   "execution_count": 152,
   "id": "18464516",
   "metadata": {},
   "outputs": [],
   "source": [
    "a=np.array([[1,2],[3,4]])\n",
    "b=np.array([[2,3],[4,5]])"
   ]
  },
  {
   "cell_type": "code",
   "execution_count": 153,
   "id": "04e481cb",
   "metadata": {},
   "outputs": [
    {
     "data": {
      "text/plain": [
       "array([[1, 2],\n",
       "       [3, 4]])"
      ]
     },
     "execution_count": 153,
     "metadata": {},
     "output_type": "execute_result"
    }
   ],
   "source": [
    "a"
   ]
  },
  {
   "cell_type": "code",
   "execution_count": 154,
   "id": "c0efabbe",
   "metadata": {},
   "outputs": [
    {
     "data": {
      "text/plain": [
       "array([[2, 3],\n",
       "       [4, 5]])"
      ]
     },
     "execution_count": 154,
     "metadata": {},
     "output_type": "execute_result"
    }
   ],
   "source": [
    "b"
   ]
  },
  {
   "cell_type": "code",
   "execution_count": 155,
   "id": "bbb43ddb",
   "metadata": {},
   "outputs": [
    {
     "data": {
      "text/plain": [
       "array([[ 2,  6],\n",
       "       [12, 20]])"
      ]
     },
     "execution_count": 155,
     "metadata": {},
     "output_type": "execute_result"
    }
   ],
   "source": [
    "a*b    # element multiplication "
   ]
  },
  {
   "cell_type": "code",
   "execution_count": 157,
   "id": "d236d97a",
   "metadata": {},
   "outputs": [],
   "source": [
    "m=a@b    # @ give matrix multiplication condition is column of first and row of second must be same"
   ]
  },
  {
   "cell_type": "code",
   "execution_count": 158,
   "id": "c2fb7c79",
   "metadata": {},
   "outputs": [
    {
     "data": {
      "text/plain": [
       "array([[10, 13],\n",
       "       [22, 29]])"
      ]
     },
     "execution_count": 158,
     "metadata": {},
     "output_type": "execute_result"
    }
   ],
   "source": [
    "m"
   ]
  },
  {
   "cell_type": "code",
   "execution_count": 159,
   "id": "c90cbe6b",
   "metadata": {},
   "outputs": [
    {
     "name": "stderr",
     "output_type": "stream",
     "text": [
      "C:\\Users\\aakas\\AppData\\Local\\Temp\\ipykernel_9916\\3791875896.py:1: RuntimeWarning: divide by zero encountered in true_divide\n",
      "  m/0\n"
     ]
    },
    {
     "data": {
      "text/plain": [
       "array([[inf, inf],\n",
       "       [inf, inf]])"
      ]
     },
     "execution_count": 159,
     "metadata": {},
     "output_type": "execute_result"
    }
   ],
   "source": [
    "m/0"
   ]
  },
  {
   "cell_type": "code",
   "execution_count": null,
   "id": "a66668fd",
   "metadata": {},
   "outputs": [],
   "source": []
  }
 ],
 "metadata": {
  "kernelspec": {
   "display_name": "Python 3 (ipykernel)",
   "language": "python",
   "name": "python3"
  },
  "language_info": {
   "codemirror_mode": {
    "name": "ipython",
    "version": 3
   },
   "file_extension": ".py",
   "mimetype": "text/x-python",
   "name": "python",
   "nbconvert_exporter": "python",
   "pygments_lexer": "ipython3",
   "version": "3.9.12"
  }
 },
 "nbformat": 4,
 "nbformat_minor": 5
}
